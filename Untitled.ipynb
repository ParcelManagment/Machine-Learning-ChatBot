{
 "cells": [
  {
   "cell_type": "code",
   "execution_count": 6,
   "id": "a9b3ccf2",
   "metadata": {},
   "outputs": [
    {
     "ename": "TypeError",
     "evalue": "input_signature missing type constraint for padded_sequence",
     "output_type": "error",
     "traceback": [
      "\u001b[1;31m---------------------------------------------------------------------------\u001b[0m",
      "\u001b[1;31mTypeError\u001b[0m                                 Traceback (most recent call last)",
      "Cell \u001b[1;32mIn[6], line 67\u001b[0m\n\u001b[0;32m     62\u001b[0m     lbl_encoder \u001b[38;5;241m=\u001b[39m pickle\u001b[38;5;241m.\u001b[39mload(enc)\n\u001b[0;32m     64\u001b[0m max_len \u001b[38;5;241m=\u001b[39m \u001b[38;5;241m20\u001b[39m\n\u001b[0;32m     66\u001b[0m \u001b[38;5;129;43m@tf\u001b[39;49m\u001b[38;5;241;43m.\u001b[39;49m\u001b[43mfunction\u001b[49m\u001b[43m(\u001b[49m\u001b[43minput_signature\u001b[49m\u001b[38;5;241;43m=\u001b[39;49m\u001b[43m[\u001b[49m\u001b[43mtf\u001b[49m\u001b[38;5;241;43m.\u001b[39;49m\u001b[43mTensorSpec\u001b[49m\u001b[43m(\u001b[49m\u001b[43mshape\u001b[49m\u001b[38;5;241;43m=\u001b[39;49m\u001b[43m[\u001b[49m\u001b[38;5;28;43;01mNone\u001b[39;49;00m\u001b[43m,\u001b[49m\u001b[43m \u001b[49m\u001b[43mmax_len\u001b[49m\u001b[43m]\u001b[49m\u001b[43m,\u001b[49m\u001b[43m \u001b[49m\u001b[43mdtype\u001b[49m\u001b[38;5;241;43m=\u001b[39;49m\u001b[43mtf\u001b[49m\u001b[38;5;241;43m.\u001b[39;49m\u001b[43mfloat32\u001b[49m\u001b[43m)\u001b[49m\u001b[43m]\u001b[49m\u001b[43m)\u001b[49m\n\u001b[1;32m---> 67\u001b[0m \u001b[38;5;28;43;01mdef\u001b[39;49;00m\u001b[43m \u001b[49m\u001b[38;5;21;43mpredict\u001b[39;49m\u001b[43m(\u001b[49m\u001b[43mmodel\u001b[49m\u001b[43m,\u001b[49m\u001b[43m \u001b[49m\u001b[43mpadded_sequence\u001b[49m\u001b[43m)\u001b[49m\u001b[43m:\u001b[49m\n\u001b[0;32m     68\u001b[0m \u001b[43m    \u001b[49m\u001b[38;5;28;43;01mreturn\u001b[39;49;00m\u001b[43m \u001b[49m\u001b[43mmodel\u001b[49m\u001b[43m(\u001b[49m\u001b[43mpadded_sequence\u001b[49m\u001b[43m)\u001b[49m\n\u001b[0;32m     70\u001b[0m \u001b[38;5;28;01mdef\u001b[39;00m \u001b[38;5;21mchat\u001b[39m(message):\n\u001b[0;32m     71\u001b[0m     \u001b[38;5;66;03m# Preprocess the input message\u001b[39;00m\n",
      "File \u001b[1;32m~\\AppData\\Roaming\\Python\\Python310\\site-packages\\tensorflow\\python\\eager\\polymorphic_function\\polymorphic_function.py:1653\u001b[0m, in \u001b[0;36mfunction.<locals>.decorated\u001b[1;34m(inner_function)\u001b[0m\n\u001b[0;32m   1648\u001b[0m \u001b[38;5;28;01mexcept\u001b[39;00m \u001b[38;5;167;01mAttributeError\u001b[39;00m:\n\u001b[0;32m   1649\u001b[0m   name \u001b[38;5;241m=\u001b[39m \u001b[38;5;124m\"\u001b[39m\u001b[38;5;124mfunction\u001b[39m\u001b[38;5;124m\"\u001b[39m\n\u001b[0;32m   1650\u001b[0m \u001b[38;5;28;01mreturn\u001b[39;00m tf_decorator\u001b[38;5;241m.\u001b[39mmake_decorator(\n\u001b[0;32m   1651\u001b[0m     inner_function,\n\u001b[0;32m   1652\u001b[0m     decorator_name\u001b[38;5;241m=\u001b[39m\u001b[38;5;124m\"\u001b[39m\u001b[38;5;124mtf.function\u001b[39m\u001b[38;5;124m\"\u001b[39m,\n\u001b[1;32m-> 1653\u001b[0m     decorator_func\u001b[38;5;241m=\u001b[39m\u001b[43mFunction\u001b[49m\u001b[43m(\u001b[49m\n\u001b[0;32m   1654\u001b[0m \u001b[43m        \u001b[49m\u001b[43minner_function\u001b[49m\u001b[43m,\u001b[49m\n\u001b[0;32m   1655\u001b[0m \u001b[43m        \u001b[49m\u001b[43mname\u001b[49m\u001b[43m,\u001b[49m\n\u001b[0;32m   1656\u001b[0m \u001b[43m        \u001b[49m\u001b[43minput_signature\u001b[49m\u001b[38;5;241;43m=\u001b[39;49m\u001b[43minput_signature\u001b[49m\u001b[43m,\u001b[49m\n\u001b[0;32m   1657\u001b[0m \u001b[43m        \u001b[49m\u001b[43mautograph\u001b[49m\u001b[38;5;241;43m=\u001b[39;49m\u001b[43mautograph\u001b[49m\u001b[43m,\u001b[49m\n\u001b[0;32m   1658\u001b[0m \u001b[43m        \u001b[49m\u001b[43mexperimental_autograph_options\u001b[49m\u001b[38;5;241;43m=\u001b[39;49m\u001b[43mexperimental_autograph_options\u001b[49m\u001b[43m,\u001b[49m\n\u001b[0;32m   1659\u001b[0m \u001b[43m        \u001b[49m\u001b[43mreduce_retracing\u001b[49m\u001b[38;5;241;43m=\u001b[39;49m\u001b[43mreduce_retracing\u001b[49m\u001b[43m,\u001b[49m\n\u001b[0;32m   1660\u001b[0m \n\u001b[0;32m   1661\u001b[0m \u001b[43m        \u001b[49m\u001b[38;5;66;43;03m# TODO(b/171825496): Update once `experimental_compile` is removed\u001b[39;49;00m\n\u001b[0;32m   1662\u001b[0m \u001b[43m        \u001b[49m\u001b[38;5;66;43;03m# entirely in favor of 'jit_compile'.\u001b[39;49;00m\n\u001b[0;32m   1663\u001b[0m \u001b[43m        \u001b[49m\u001b[43mjit_compile\u001b[49m\u001b[38;5;241;43m=\u001b[39;49m\u001b[43mdeprecation\u001b[49m\u001b[38;5;241;43m.\u001b[39;49m\u001b[43mdeprecated_argument_lookup\u001b[49m\u001b[43m(\u001b[49m\n\u001b[0;32m   1664\u001b[0m \u001b[43m            \u001b[49m\u001b[38;5;124;43m\"\u001b[39;49m\u001b[38;5;124;43mjit_compile\u001b[39;49m\u001b[38;5;124;43m\"\u001b[39;49m\u001b[43m,\u001b[49m\n\u001b[0;32m   1665\u001b[0m \u001b[43m            \u001b[49m\u001b[43mjit_compile\u001b[49m\u001b[43m,\u001b[49m\n\u001b[0;32m   1666\u001b[0m \u001b[43m            \u001b[49m\u001b[38;5;124;43m\"\u001b[39;49m\u001b[38;5;124;43mexperimental_compile\u001b[39;49m\u001b[38;5;124;43m\"\u001b[39;49m\u001b[43m,\u001b[49m\n\u001b[0;32m   1667\u001b[0m \u001b[43m            \u001b[49m\u001b[43mexperimental_compile\u001b[49m\u001b[43m)\u001b[49m\u001b[43m,\u001b[49m\n\u001b[0;32m   1668\u001b[0m \u001b[43m        \u001b[49m\u001b[43mexperimental_implements\u001b[49m\u001b[38;5;241;43m=\u001b[39;49m\u001b[43mexperimental_implements\u001b[49m\u001b[43m,\u001b[49m\n\u001b[0;32m   1669\u001b[0m \u001b[43m        \u001b[49m\u001b[43mexperimental_attributes\u001b[49m\u001b[38;5;241;43m=\u001b[39;49m\u001b[43mexperimental_attributes\u001b[49m\u001b[43m)\u001b[49m)\n",
      "File \u001b[1;32m~\\AppData\\Roaming\\Python\\Python310\\site-packages\\tensorflow\\python\\eager\\polymorphic_function\\polymorphic_function.py:492\u001b[0m, in \u001b[0;36mFunction.__init__\u001b[1;34m(self, python_function, name, input_signature, autograph, jit_compile, reduce_retracing, experimental_implements, experimental_autograph_options, experimental_attributes)\u001b[0m\n\u001b[0;32m    489\u001b[0m \u001b[38;5;28mself\u001b[39m\u001b[38;5;241m.\u001b[39m_lock \u001b[38;5;241m=\u001b[39m threading\u001b[38;5;241m.\u001b[39mRLock()\n\u001b[0;32m    490\u001b[0m \u001b[38;5;28mself\u001b[39m\u001b[38;5;241m.\u001b[39m_python_function \u001b[38;5;241m=\u001b[39m python_function\n\u001b[0;32m    491\u001b[0m \u001b[38;5;28mself\u001b[39m\u001b[38;5;241m.\u001b[39m_function_type, \u001b[38;5;28mself\u001b[39m\u001b[38;5;241m.\u001b[39m_default_values \u001b[38;5;241m=\u001b[39m (\n\u001b[1;32m--> 492\u001b[0m     \u001b[43mfunction_type_utils\u001b[49m\u001b[38;5;241;43m.\u001b[39;49m\u001b[43mmake_function_type\u001b[49m\u001b[43m(\u001b[49m\u001b[43mpython_function\u001b[49m\u001b[43m,\u001b[49m\u001b[43m \u001b[49m\u001b[43minput_signature\u001b[49m\u001b[43m)\u001b[49m\n\u001b[0;32m    493\u001b[0m )\n\u001b[0;32m    494\u001b[0m \u001b[38;5;28mself\u001b[39m\u001b[38;5;241m.\u001b[39m_function_cache \u001b[38;5;241m=\u001b[39m function_cache\u001b[38;5;241m.\u001b[39mFunctionCache()\n\u001b[0;32m    495\u001b[0m \u001b[38;5;28mself\u001b[39m\u001b[38;5;241m.\u001b[39m_function_captures \u001b[38;5;241m=\u001b[39m capture_container\u001b[38;5;241m.\u001b[39mFunctionCaptures()\n",
      "File \u001b[1;32m~\\AppData\\Roaming\\Python\\Python310\\site-packages\\tensorflow\\python\\eager\\polymorphic_function\\function_type_utils.py:355\u001b[0m, in \u001b[0;36mmake_function_type\u001b[1;34m(python_function, input_signature)\u001b[0m\n\u001b[0;32m    353\u001b[0m \u001b[38;5;28;01mif\u001b[39;00m input_signature \u001b[38;5;129;01mis\u001b[39;00m \u001b[38;5;129;01mnot\u001b[39;00m \u001b[38;5;28;01mNone\u001b[39;00m:\n\u001b[0;32m    354\u001b[0m   input_signature \u001b[38;5;241m=\u001b[39m \u001b[38;5;28mtuple\u001b[39m(input_signature)\n\u001b[1;32m--> 355\u001b[0m   function_type \u001b[38;5;241m=\u001b[39m \u001b[43mfunction_type_lib\u001b[49m\u001b[38;5;241;43m.\u001b[39;49m\u001b[43madd_type_constraints\u001b[49m\u001b[43m(\u001b[49m\n\u001b[0;32m    356\u001b[0m \u001b[43m      \u001b[49m\u001b[43mfunction_type\u001b[49m\u001b[43m,\u001b[49m\u001b[43m \u001b[49m\u001b[43minput_signature\u001b[49m\u001b[43m,\u001b[49m\u001b[43m \u001b[49m\u001b[43mdefault_values\u001b[49m\n\u001b[0;32m    357\u001b[0m \u001b[43m  \u001b[49m\u001b[43m)\u001b[49m\n\u001b[0;32m    359\u001b[0m \u001b[38;5;28;01mreturn\u001b[39;00m function_type, default_values\n",
      "File \u001b[1;32m~\\AppData\\Roaming\\Python\\Python310\\site-packages\\tensorflow\\core\\function\\polymorphism\\function_type.py:642\u001b[0m, in \u001b[0;36madd_type_constraints\u001b[1;34m(function_type, input_signature, default_values)\u001b[0m\n\u001b[0;32m    638\u001b[0m       parameters\u001b[38;5;241m.\u001b[39mappend(\n\u001b[0;32m    639\u001b[0m           Parameter(param\u001b[38;5;241m.\u001b[39mname, sanitized_kind, param\u001b[38;5;241m.\u001b[39moptional,\n\u001b[0;32m    640\u001b[0m                     type_constraint))\n\u001b[0;32m    641\u001b[0m     \u001b[38;5;28;01melse\u001b[39;00m:\n\u001b[1;32m--> 642\u001b[0m       \u001b[38;5;28;01mraise\u001b[39;00m \u001b[38;5;167;01mTypeError\u001b[39;00m(\n\u001b[0;32m    643\u001b[0m           \u001b[38;5;124mf\u001b[39m\u001b[38;5;124m\"\u001b[39m\u001b[38;5;124minput_signature missing type constraint for \u001b[39m\u001b[38;5;132;01m{\u001b[39;00mparam\u001b[38;5;241m.\u001b[39mname\u001b[38;5;132;01m}\u001b[39;00m\u001b[38;5;124m\"\u001b[39m)\n\u001b[0;32m    645\u001b[0m \u001b[38;5;28;01mif\u001b[39;00m constraints:\n\u001b[0;32m    646\u001b[0m   \u001b[38;5;28;01mraise\u001b[39;00m \u001b[38;5;167;01mTypeError\u001b[39;00m(\n\u001b[0;32m    647\u001b[0m       \u001b[38;5;124mf\u001b[39m\u001b[38;5;124m\"\u001b[39m\u001b[38;5;124minput_signature contains \u001b[39m\u001b[38;5;132;01m{\u001b[39;00m\u001b[38;5;28mlen\u001b[39m(constraints)\u001b[38;5;132;01m}\u001b[39;00m\u001b[38;5;124m extra type constraints.\u001b[39m\u001b[38;5;124m\"\u001b[39m)\n",
      "\u001b[1;31mTypeError\u001b[0m: input_signature missing type constraint for padded_sequence"
     ]
    }
   ],
   "source": [
    "import json \n",
    "import numpy as np\n",
    "import tensorflow as tf\n",
    "from tensorflow import keras\n",
    "from sklearn.preprocessing import LabelEncoder\n",
    "\n",
    "import colorama \n",
    "colorama.init()\n",
    "from colorama import Fore, Style, Back\n",
    "\n",
    "import random\n",
    "import pickle\n",
    "\n",
    "data = {\"intents\": [\n",
    "    {\"tag\": \"greeting\",\n",
    "     \"patterns\": [\"Hi\", \"Hey\", \"Is anyone there?\", \"Hello\", \"Hay\"],\n",
    "     \"responses\": [\"Hello\", \"Hi\", \"Hi there\"]\n",
    "    },\n",
    "    {\"tag\": \"goodbye\",\n",
    "     \"patterns\": [\"Bye\", \"See you later\", \"Goodbye\"],\n",
    "     \"responses\": [\"See you later\", \"Have a nice day\", \"Bye! Come back again\"]\n",
    "    },\n",
    "    {\"tag\": \"thanks\",\n",
    "     \"patterns\": [\"Thanks\", \"Thank you\", \"That's helpful\", \"Thanks for the help\"],\n",
    "     \"responses\": [\"Happy to help!\", \"Any time!\", \"My pleasure\", \"You're most welcome!\"]\n",
    "    },\n",
    "    {\"tag\": \"about\",\n",
    "     \"patterns\": [\"Who are you?\", \"What are you?\", \"Who you are?\" ],\n",
    "     \"responses\": [\"I'm Joana, your bot assistant\", \"I'm Joana, an Artificial Intelligent bot\"]\n",
    "    },\n",
    "    {\"tag\": \"name\",\n",
    "    \"patterns\": [\"what is your name\", \"what should I call you\", \"whats your name?\"],\n",
    "    \"responses\": [\"You can call me Joana.\", \"I'm Joana!\", \"Just call me Joana\"]\n",
    "    },\n",
    "    {\"tag\": \"help\",\n",
    "    \"patterns\": [\"Could you help me?\", \"give me a hand please\", \"Can you help?\", \"What can you do for me?\", \"I need a support\", \"I need help\", \"support me please\"],\n",
    "    \"responses\": [\"Tell me how I can assist you\", \"Tell me your problem to assist you\", \"Yes, sure, how can I support you?\"]\n",
    "    },\n",
    "    {\"tag\": \"createaccount\",\n",
    "    \"patterns\": [\"I need to create a new account\", \"how to open a new account\", \"I want to create an account\", \"can you create an account for me\", \"how to open a new account\"],\n",
    "    \"responses\": [\"You can just easily create a new account from our website\", \"Just go to our website and follow the guidelines to create a new account\"]\n",
    "    },\n",
    "    {\"tag\": \"complaint\",\n",
    "    \"patterns\": [\"I have a complaint\", \"I want to raise a complaint\", \"there is a complaint about a service\"],\n",
    "    \"responses\": [\"Please provide us your complaint in order to assist you\", \"Please mention your complaint, we will reach you and sorry for any inconvenience caused\"]\n",
    "    },\n",
    "    {\"tag\": \"location\",\n",
    "        \"patterns\": [\"Can you tell me where the parcel with tracking ID AB123456789 is?\",\"What's the current status of my shipment GT325673452?\",\"Where is my package SP457209142?\",\"Any update on GT325673452?\",\"Track SP457209142 for me, please.\",\n",
    "                     \"I need to know where my parcel AB123456789 is right now.\",\"GT325673452, can you track this for me?\",\"Can you give me the current location and status of parcel AB123456789?\",\"I'm waiting for SP457209142. Any idea where it might be?\"],\n",
    "        \"responses\": []\n",
    "    }\n",
    "]\n",
    "}\n",
    "\n",
    "# Load the model and related files once\n",
    "model = keras.models.load_model('chat_model.keras')\n",
    "\n",
    "with open('tokenizer.pickle', 'rb') as handle:\n",
    "    tokenizer = pickle.load(handle)\n",
    "\n",
    "with open('label_encoder.pickle', 'rb') as enc:\n",
    "    lbl_encoder = pickle.load(enc)\n",
    "\n",
    "max_len = 20\n",
    "\n",
    "@tf.function(input_signature=[tf.TensorSpec(shape=[None, max_len], dtype=tf.float32)])\n",
    "def predict(model, padded_sequence):\n",
    "    return model(padded_sequence)\n",
    "\n",
    "def chat(message):\n",
    "    # Preprocess the input message\n",
    "    sequence = tokenizer.texts_to_sequences([message])\n",
    "    padded_sequence = keras.preprocessing.sequence.pad_sequences(sequence, truncating='post', maxlen=max_len)\n",
    "    \n",
    "    # Get the model prediction\n",
    "    result = predict(model, padded_sequence)\n",
    "\n",
    "    # Decode the prediction to get the tag\n",
    "    tag = lbl_encoder.inverse_transform([np.argmax(result)])[0]\n",
    "\n",
    "    # Find and print a response\n",
    "    for i in data['intents']:\n",
    "        if i['tag'] == tag:\n",
    "            if tag == 'location':\n",
    "                print(\"Please provide your tracking ID for more information.\")\n",
    "            else:\n",
    "                print(\"chatBot:\", np.random.choice(i['responses']))\n",
    "            break\n",
    "\n",
    "chat(\"Hey\")\n"
   ]
  },
  {
   "cell_type": "code",
   "execution_count": 2,
   "id": "dc4ef281",
   "metadata": {},
   "outputs": [
    {
     "name": "stdout",
     "output_type": "stream",
     "text": [
      "1/1 ━━━━━━━━━━━━━━━━━━━━ 0s 21ms/ste ━━━━━━━━━━━━━━━━━━━━ 0s 28ms/step\n",
      "chatBot: Hi there\n"
     ]
    }
   ],
   "source": [
    "chat(\"Hey\")"
   ]
  },
  {
   "cell_type": "code",
   "execution_count": null,
   "id": "e5ff0ff1",
   "metadata": {},
   "outputs": [],
   "source": []
  }
 ],
 "metadata": {
  "kernelspec": {
   "display_name": "Python 3 (ipykernel)",
   "language": "python",
   "name": "python3"
  },
  "language_info": {
   "codemirror_mode": {
    "name": "ipython",
    "version": 3
   },
   "file_extension": ".py",
   "mimetype": "text/x-python",
   "name": "python",
   "nbconvert_exporter": "python",
   "pygments_lexer": "ipython3",
   "version": "3.10.9"
  }
 },
 "nbformat": 4,
 "nbformat_minor": 5
}
