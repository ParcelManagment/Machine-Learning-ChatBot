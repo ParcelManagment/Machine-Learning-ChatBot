{
 "cells": [
  {
   "cell_type": "code",
   "execution_count": null,
   "id": "59f569c1",
   "metadata": {},
   "outputs": [],
   "source": []
  },
  {
   "cell_type": "code",
   "execution_count": 1,
   "id": "4bb071fa",
   "metadata": {},
   "outputs": [],
   "source": [
    "import json \n",
    "import numpy as np\n",
    "from tensorflow import keras\n",
    "from sklearn.preprocessing import LabelEncoder\n",
    "\n",
    "import colorama \n",
    "colorama.init()\n",
    "from colorama import Fore, Style, Back\n",
    "\n",
    "import random\n",
    "import pickle"
   ]
  },
  {
   "cell_type": "code",
   "execution_count": 2,
   "id": "87632950",
   "metadata": {},
   "outputs": [],
   "source": [
    "data = {\"intents\": [\n",
    "    {\"tag\": \"greeting\",\n",
    "     \"patterns\": [\"Hi\", \"Hey\", \"Is anyone there?\", \"Hello\", \"Hay\"],\n",
    "     \"responses\": [\"Hello\", \"Hi\", \"Hi there\"]\n",
    "    },\n",
    "    {\"tag\": \"goodbye\",\n",
    "     \"patterns\": [\"Bye\", \"See you later\", \"Goodbye\"],\n",
    "     \"responses\": [\"See you later\", \"Have a nice day\", \"Bye! Come back again\"]\n",
    "    },\n",
    "    {\"tag\": \"thanks\",\n",
    "     \"patterns\": [\"Thanks\", \"Thank you\", \"That's helpful\", \"Thanks for the help\"],\n",
    "     \"responses\": [\"Happy to help!\", \"Any time!\", \"My pleasure\", \"You're most welcome!\"]\n",
    "    },\n",
    "    {\"tag\": \"about\",\n",
    "     \"patterns\": [\"Who are you?\", \"What are you?\", \"Who you are?\" ],\n",
    "     \"responses\": [\"I.m Joana, your bot assistant\", \"I'm Joana, an Artificial Intelligent bot\"]\n",
    "    },\n",
    "    {\"tag\": \"name\",\n",
    "    \"patterns\": [\"what is your name\", \"what should I call you\", \"whats your name?\"],\n",
    "    \"responses\": [\"You can call me Joana.\", \"I'm Joana!\", \"Just call me as Joana\"]\n",
    "    },\n",
    "    {\"tag\": \"help\",\n",
    "    \"patterns\": [\"Could you help me?\", \"give me a hand please\", \"Can you help?\", \"What can you do for me?\", \"I need a support\", \"I need a help\", \"support me please\"],\n",
    "    \"responses\": [\"Tell me how can assist you\", \"Tell me your problem to assist you\", \"Yes Sure, How can I support you\"]\n",
    "    },\n",
    "    {\"tag\": \"createaccount\",\n",
    "    \"patterns\": [\"I need to create a new account\", \"how to open a new account\", \"I want to create an account\", \"can you create an account for me\", \"how to open a new account\"],\n",
    "    \"responses\": [\"You can just easily create a new account from our web site\", \"Just go to our web site and follow the guidelines to create a new account\"]\n",
    "    },\n",
    "    {\"tag\": \"complaint\",\n",
    "    \"patterns\": [\"have a complaint\", \"I want to raise a complaint\", \"there is a complaint about a service\"],\n",
    "    \"responses\": [\"Please provide us your complaint in order to assist you\", \"Please mention your complaint, we will reach you and sorry for any inconvenience caused\"]\n",
    "    },\n",
    "    {\"tag\": \"location\",\n",
    "        \"patterns\": [\"Can you tell me where the parcel with tracking ID AB123456789 is?\",\"What's the current status of my shipment GT325673452?\",\"Where is my package SP457209142?\",\"Any update on GT325673452?\",\"Track SP457209142 for me, please.\",\n",
    "                     \"I need to know where my parcel AB123456789 is right now.\",\"GT325673452, can you track this for me?\",\"Can you give me the current location and status of parcel AB123456789?\",\"I'm waiting for SP457209142. Any idea where it might be?\"],\n",
    "        \"responses\": []\n",
    "    }\n",
    "]\n",
    "}"
   ]
  },
  {
   "cell_type": "code",
   "execution_count": 3,
   "id": "88945a32",
   "metadata": {},
   "outputs": [],
   "source": [
    "import re\n",
    "\n",
    "pattern = r'[A-Z]{2}\\d{9}'\n",
    "\n",
    "def extract_tracking_id(message):\n",
    "    Id = re.search(pattern,message).group()\n",
    "    return Id"
   ]
  },
  {
   "cell_type": "code",
   "execution_count": 5,
   "id": "cb6c736a",
   "metadata": {},
   "outputs": [
    {
     "data": {
      "text/plain": [
       "'SP457209142'"
      ]
     },
     "execution_count": 5,
     "metadata": {},
     "output_type": "execute_result"
    }
   ],
   "source": [
    "a =  \"Can you tell me where the parcel with parcel number SP457209142\"\n",
    "extract_tracking_id(a)"
   ]
  },
  {
   "cell_type": "code",
   "execution_count": 4,
   "id": "0d4f1120",
   "metadata": {},
   "outputs": [
    {
     "name": "stdout",
     "output_type": "stream",
     "text": [
      "Start messaging with the bot (type quit to stop)!\n",
      "User: Where is my package AB123456789?\n",
      "1/1 ━━━━━━━━━━━━━━━━━━━━ 0s 157ms/st ━━━━━━━━━━━━━━━━━━━━ 0s 178ms/step\n",
      "ChatBot: The tracking ID is: AB123456789\n",
      "ChatBot: The tracking ID is: AB123456789\n",
      "ChatBot: The tracking ID is: AB123456789\n",
      "ChatBot: The tracking ID is: AB123456789\n",
      "ChatBot: The tracking ID is: AB123456789\n",
      "ChatBot: The tracking ID is: AB123456789\n",
      "ChatBot: The tracking ID is: AB123456789\n",
      "ChatBot: The tracking ID is: AB123456789\n",
      "ChatBot: The tracking ID is: AB123456789\n",
      "User: quit\n"
     ]
    }
   ],
   "source": [
    "def chat():\n",
    "    # load trained model\n",
    "    model = keras.models.load_model('chat_model.keras')\n",
    "\n",
    "    # load tokenizer object\n",
    "    with open('tokenizer.pickle', 'rb') as handle:\n",
    "        tokenizer = pickle.load(handle)\n",
    "\n",
    "    # load label encoder object\n",
    "    with open('label_encoder.pickle', 'rb') as enc:\n",
    "        lbl_encoder = pickle.load(enc)\n",
    "\n",
    "    # parameters\n",
    "    max_len = 20\n",
    "    \n",
    "    while True:\n",
    "        print(Fore.LIGHTBLUE_EX + \"User: \" + Style.RESET_ALL, end=\"\")\n",
    "        inp = input()\n",
    "        if inp.lower() == \"quit\":\n",
    "            break\n",
    "\n",
    "        result = model.predict(keras.preprocessing.sequence.pad_sequences(tokenizer.texts_to_sequences([inp]),\n",
    "                                             truncating='post', maxlen=max_len))\n",
    "        tag = lbl_encoder.inverse_transform([np.argmax(result)])\n",
    "\n",
    "        for i in data['intents']:\n",
    "            if tag == 'location':\n",
    "                tracking_id = extract_tracking_id(inp)\n",
    "                if tracking_id:\n",
    "                    print(Fore.GREEN + \"ChatBot:\" + Style.RESET_ALL , f\"The tracking ID is: {tracking_id}\")\n",
    "                else:\n",
    "                    print(Fore.GREEN + \"ChatBot:\" + Style.RESET_ALL, \"I couldn't find a valid tracking ID in your message.\")\n",
    "            if tag !='location' and i['tag'] == tag:\n",
    "                print(Fore.GREEN + \"ChatBot:\" + Style.RESET_ALL , np.random.choice(i['responses']))\n",
    "\n",
    "        # print(Fore.GREEN + \"ChatBot:\" + Style.RESET_ALL,random.choice(responses))\n",
    "\n",
    "print(Fore.YELLOW + \"Start messaging with the bot (type quit to stop)!\" + Style.RESET_ALL)\n",
    "chat()"
   ]
  },
  {
   "cell_type": "code",
   "execution_count": null,
   "id": "774e42fe",
   "metadata": {},
   "outputs": [],
   "source": []
  }
 ],
 "metadata": {
  "kernelspec": {
   "display_name": "Python 3 (ipykernel)",
   "language": "python",
   "name": "python3"
  },
  "language_info": {
   "codemirror_mode": {
    "name": "ipython",
    "version": 3
   },
   "file_extension": ".py",
   "mimetype": "text/x-python",
   "name": "python",
   "nbconvert_exporter": "python",
   "pygments_lexer": "ipython3",
   "version": "3.10.9"
  }
 },
 "nbformat": 4,
 "nbformat_minor": 5
}
