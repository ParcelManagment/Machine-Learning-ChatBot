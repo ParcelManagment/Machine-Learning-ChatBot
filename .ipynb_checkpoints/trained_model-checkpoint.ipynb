{
 "cells": [
  {
   "cell_type": "code",
   "execution_count": null,
   "id": "59f569c1",
   "metadata": {},
   "outputs": [],
   "source": []
  },
  {
   "cell_type": "code",
   "execution_count": 1,
   "id": "4bb071fa",
   "metadata": {},
   "outputs": [],
   "source": [
    "import json \n",
    "import numpy as np\n",
    "from tensorflow import keras\n",
    "from sklearn.preprocessing import LabelEncoder\n",
    "\n",
    "import colorama \n",
    "colorama.init()\n",
    "from colorama import Fore, Style, Back\n",
    "\n",
    "import random\n",
    "import pickle"
   ]
  },
  {
   "cell_type": "code",
   "execution_count": 2,
   "id": "87632950",
   "metadata": {},
   "outputs": [],
   "source": [
    "data = {\"intents\": [\n",
    "    {\"tag\": \"greeting\",\n",
    "     \"patterns\": [\"Hi\", \"Hey\", \"Is anyone there?\", \"Hello\", \"Hay\"],\n",
    "     \"responses\": [\"Hello\", \"Hi\", \"Hi there\"]\n",
    "    },\n",
    "    {\"tag\": \"goodbye\",\n",
    "     \"patterns\": [\"Bye\", \"See you later\", \"Goodbye\"],\n",
    "     \"responses\": [\"See you later\", \"Have a nice day\", \"Bye! Come back again\"]\n",
    "    },\n",
    "    {\"tag\": \"thanks\",\n",
    "     \"patterns\": [\"Thanks\", \"Thank you\", \"That's helpful\", \"Thanks for the help\"],\n",
    "     \"responses\": [\"Happy to help!\", \"Any time!\", \"My pleasure\", \"You're most welcome!\"]\n",
    "    },\n",
    "    {\"tag\": \"about\",\n",
    "     \"patterns\": [\"Who are you?\", \"What are you?\", \"Who you are?\" ],\n",
    "     \"responses\": [\"I'm Joana, your bot assistant\", \"I'm Joana, an Artificial Intelligent bot\"]\n",
    "    },\n",
    "    {\"tag\": \"name\",\n",
    "    \"patterns\": [\"what is your name\", \"what should I call you\", \"whats your name?\"],\n",
    "    \"responses\": [\"You can call me Joana.\", \"I'm Joana!\", \"Just call me Joana\"]\n",
    "    },\n",
    "    {\"tag\": \"help\",\n",
    "    \"patterns\": [\"Could you help me?\", \"give me a hand please\", \"Can you help?\", \"What can you do for me?\", \"I need a support\", \"I need help\", \"support me please\"],\n",
    "    \"responses\": [\"Tell me how I can assist you\", \"Tell me your problem to assist you\", \"Yes, sure, how can I support you?\"]\n",
    "    },\n",
    "    {\"tag\": \"createaccount\",\n",
    "    \"patterns\": [\"I need to create a new account\", \"how to open a new account\", \"I want to create an account\", \"can you create an account for me\", \"how to open a new account\"],\n",
    "    \"responses\": [\"You can just easily create a new account from our website\", \"Just go to our website and follow the guidelines to create a new account\"]\n",
    "    },\n",
    "    {\"tag\": \"complaint\",\n",
    "    \"patterns\": [\"I have a complaint\", \"I want to raise a complaint\", \"there is a complaint about a service\"],\n",
    "    \"responses\": [\"Please provide us your complaint in order to assist you\", \"Please mention your complaint, we will reach you and sorry for any inconvenience caused\"]\n",
    "    },\n",
    "    {\"tag\": \"location\",\n",
    "        \"patterns\": [\"Can you tell me where the parcel with tracking ID AB123456789 is?\",\"What's the current status of my shipment GT325673452?\",\"Where is my package SP457209142?\",\"Any update on GT325673452?\",\"Track SP457209142 for me, please.\",\n",
    "                     \"I need to know where my parcel AB123456789 is right now.\",\"GT325673452, can you track this for me?\",\"Can you give me the current location and status of parcel AB123456789?\",\"I'm waiting for SP457209142. Any idea where it might be?\"],\n",
    "        \"responses\": []\n",
    "    }\n",
    "]\n",
    "}\n"
   ]
  },
  {
   "cell_type": "code",
   "execution_count": 3,
   "id": "88945a32",
   "metadata": {},
   "outputs": [],
   "source": [
    "import re\n",
    "\n",
    "pattern = r'[A-Z]{2}\\d{9}'\n",
    "\n",
    "def extract_tracking_id(message):\n",
    "    Id = re.search(pattern,message).group()\n",
    "    return Id"
   ]
  },
  {
   "cell_type": "code",
   "execution_count": 4,
   "id": "cb6c736a",
   "metadata": {},
   "outputs": [
    {
     "data": {
      "text/plain": [
       "'SP457209142'"
      ]
     },
     "execution_count": 4,
     "metadata": {},
     "output_type": "execute_result"
    }
   ],
   "source": [
    "a =  \"Can you tell me where the parcel with parcel number SP457209142\"\n",
    "extract_tracking_id(a)"
   ]
  },
  {
   "cell_type": "code",
   "execution_count": 8,
   "id": "0d4f1120",
   "metadata": {
    "scrolled": false
   },
   "outputs": [
    {
     "name": "stdout",
     "output_type": "stream",
     "text": [
      "Start messaging with the bot (type quit to stop)!\n",
      "User: tracking id GT325643567\n",
      "1/1 ━━━━━━━━━━━━━━━━━━━━ 0s 52ms/ste ━━━━━━━━━━━━━━━━━━━━ 0s 63ms/step\n",
      "ChatBot: The tracking ID is: GT325643567\n",
      "ChatBot: The tracking ID is: GT325643567\n",
      "ChatBot: The tracking ID is: GT325643567\n",
      "ChatBot: The tracking ID is: GT325643567\n",
      "ChatBot: The tracking ID is: GT325643567\n",
      "ChatBot: The tracking ID is: GT325643567\n",
      "ChatBot: The tracking ID is: GT325643567\n",
      "ChatBot: The tracking ID is: GT325643567\n",
      "ChatBot: The tracking ID is: GT325643567\n",
      "User: quit\n"
     ]
    }
   ],
   "source": [
    "def chat():\n",
    "    # load trained model\n",
    "    model = keras.models.load_model('chat_model.keras')\n",
    "\n",
    "    # load tokenizer object\n",
    "    with open('tokenizer.pickle', 'rb') as handle:\n",
    "        tokenizer = pickle.load(handle)\n",
    "\n",
    "    # load label encoder object\n",
    "    with open('label_encoder.pickle', 'rb') as enc:\n",
    "        lbl_encoder = pickle.load(enc)\n",
    "\n",
    "    # parameters\n",
    "    max_len = 20\n",
    "    \n",
    "    while True:\n",
    "        print(Fore.LIGHTBLUE_EX + \"User: \" + Style.RESET_ALL, end=\"\")\n",
    "        inp = input()\n",
    "        if inp.lower() == \"quit\":\n",
    "            break\n",
    "\n",
    "        result = model.predict(keras.preprocessing.sequence.pad_sequences(tokenizer.texts_to_sequences([inp]),\n",
    "                                             truncating='post', maxlen=max_len))\n",
    "        tag = lbl_encoder.inverse_transform([np.argmax(result)])\n",
    "        \n",
    "        confidence = np.max(result)\n",
    "\n",
    "        for i in data['intents']:\n",
    "            if tag == 'location':\n",
    "                tracking_id = extract_tracking_id(inp)\n",
    "                if tracking_id:\n",
    "                    print(Fore.GREEN + \"ChatBot:\" + Style.RESET_ALL , f\"The tracking ID is: {tracking_id}\")\n",
    "                else:\n",
    "                    print(Fore.GREEN + \"ChatBot:\" + Style.RESET_ALL, \"I couldn't find a valid tracking ID in your message.\")\n",
    "            if tag !='location' and i['tag'] == tag:\n",
    "                print(Fore.GREEN + \"ChatBot:\" + Style.RESET_ALL , np.random.choice(i['responses']))\n",
    "                print(Fore.YELLOW + \"Confidence:\" + Style.RESET_ALL , f\"{confidence:.2f}\")\n",
    "\n",
    "        # print(Fore.GREEN + \"ChatBot:\" + Style.RESET_ALL,random.choice(responses))\n",
    "\n",
    "print(Fore.YELLOW + \"Start messaging with the bot (type quit to stop)!\" + Style.RESET_ALL)\n",
    "chat()"
   ]
  },
  {
   "cell_type": "code",
   "execution_count": 14,
   "id": "774e42fe",
   "metadata": {},
   "outputs": [],
   "source": [
    "model = keras.models.load_model('chat_model.keras')\n",
    "\n",
    "with open('tokenizer.pickle', 'rb') as handle:\n",
    "        tokenizer = pickle.load(handle)\n",
    "\n",
    "with open('label_encoder.pickle', 'rb') as enc:\n",
    "        lbl_encoder = pickle.load(enc)\n",
    "        \n",
    "max_len = 20\n",
    "\n",
    "def chat(message):\n",
    "\n",
    "    result = model.predict(keras.preprocessing.sequence.pad_sequences(tokenizer.texts_to_sequences([message]),\n",
    "                                                 truncating='post', maxlen=max_len))\n",
    "\n",
    "    tag = lbl_encoder.inverse_transform([np.argmax(result)])[0]\n",
    "\n",
    "    for i in data['intents']:\n",
    "        if i['tag'] == tag:\n",
    "            if tag == 'location':\n",
    "                print(location)\n",
    "\n",
    "            else:\n",
    "                print(\"chatBot:\",np.random.choice(i['responses']))"
   ]
  },
  {
   "cell_type": "code",
   "execution_count": 12,
   "id": "11d3eb1b",
   "metadata": {
    "scrolled": true
   },
   "outputs": [
    {
     "name": "stdout",
     "output_type": "stream",
     "text": [
      "WARNING:tensorflow:6 out of the last 6 calls to <function TensorFlowTrainer.make_predict_function.<locals>.one_step_on_data_distributed at 0x000001C0310DEB90> triggered tf.function retracing. Tracing is expensive and the excessive number of tracings could be due to (1) creating @tf.function repeatedly in a loop, (2) passing tensors with different shapes, (3) passing Python objects instead of tensors. For (1), please define your @tf.function outside of the loop. For (2), @tf.function has reduce_retracing=True option that can avoid unnecessary retracing. For (3), please refer to https://www.tensorflow.org/guide/function#controlling_retracing and https://www.tensorflow.org/api_docs/python/tf/function for  more details.\n",
      "1/1 ━━━━━━━━━━━━━━━━━━━━ 0s 66ms/ste ━━━━━━━━━━━━━━━━━━━━ 0s 77ms/step\n",
      "chatBot: Hi\n"
     ]
    }
   ],
   "source": [
    "chat(\"Hey\")"
   ]
  },
  {
   "cell_type": "code",
   "execution_count": 17,
   "id": "9664f4fd",
   "metadata": {},
   "outputs": [
    {
     "name": "stdout",
     "output_type": "stream",
     "text": [
      "1/1 ━━━━━━━━━━━━━━━━━━━━ 0s 20ms/ste ━━━━━━━━━━━━━━━━━━━━ 0s 31ms/step\n",
      "chatBot: Just call me Joana\n"
     ]
    }
   ],
   "source": [
    "chat(\"What is your name\")"
   ]
  },
  {
   "cell_type": "code",
   "execution_count": 16,
   "id": "77582669",
   "metadata": {},
   "outputs": [
    {
     "name": "stdout",
     "output_type": "stream",
     "text": [
      "1/1 ━━━━━━━━━━━━━━━━━━━━ 0s 58ms/ste ━━━━━━━━━━━━━━━━━━━━ 0s 72ms/step\n",
      "chatBot: Hi\n"
     ]
    }
   ],
   "source": [
    "import json \n",
    "import numpy as np\n",
    "from tensorflow import keras\n",
    "from sklearn.preprocessing import LabelEncoder\n",
    "\n",
    "import colorama \n",
    "colorama.init()\n",
    "from colorama import Fore, Style, Back\n",
    "\n",
    "import random\n",
    "import pickle\n",
    "\n",
    "data = {\"intents\": [\n",
    "    {\"tag\": \"greeting\",\n",
    "     \"patterns\": [\"Hi\", \"Hey\", \"Is anyone there?\", \"Hello\", \"Hay\"],\n",
    "     \"responses\": [\"Hello\", \"Hi\", \"Hi there\"]\n",
    "    },\n",
    "    {\"tag\": \"goodbye\",\n",
    "     \"patterns\": [\"Bye\", \"See you later\", \"Goodbye\"],\n",
    "     \"responses\": [\"See you later\", \"Have a nice day\", \"Bye! Come back again\"]\n",
    "    },\n",
    "    {\"tag\": \"thanks\",\n",
    "     \"patterns\": [\"Thanks\", \"Thank you\", \"That's helpful\", \"Thanks for the help\"],\n",
    "     \"responses\": [\"Happy to help!\", \"Any time!\", \"My pleasure\", \"You're most welcome!\"]\n",
    "    },\n",
    "    {\"tag\": \"about\",\n",
    "     \"patterns\": [\"Who are you?\", \"What are you?\", \"Who you are?\" ],\n",
    "     \"responses\": [\"I'm Joana, your bot assistant\", \"I'm Joana, an Artificial Intelligent bot\"]\n",
    "    },\n",
    "    {\"tag\": \"name\",\n",
    "    \"patterns\": [\"what is your name\", \"what should I call you\", \"whats your name?\"],\n",
    "    \"responses\": [\"You can call me Joana.\", \"I'm Joana!\", \"Just call me Joana\"]\n",
    "    },\n",
    "    {\"tag\": \"help\",\n",
    "    \"patterns\": [\"Could you help me?\", \"give me a hand please\", \"Can you help?\", \"What can you do for me?\", \"I need a support\", \"I need help\", \"support me please\"],\n",
    "    \"responses\": [\"Tell me how I can assist you\", \"Tell me your problem to assist you\", \"Yes, sure, how can I support you?\"]\n",
    "    },\n",
    "    {\"tag\": \"createaccount\",\n",
    "    \"patterns\": [\"I need to create a new account\", \"how to open a new account\", \"I want to create an account\", \"can you create an account for me\", \"how to open a new account\"],\n",
    "    \"responses\": [\"You can just easily create a new account from our website\", \"Just go to our website and follow the guidelines to create a new account\"]\n",
    "    },\n",
    "    {\"tag\": \"complaint\",\n",
    "    \"patterns\": [\"I have a complaint\", \"I want to raise a complaint\", \"there is a complaint about a service\"],\n",
    "    \"responses\": [\"Please provide us your complaint in order to assist you\", \"Please mention your complaint, we will reach you and sorry for any inconvenience caused\"]\n",
    "    },\n",
    "    {\"tag\": \"location\",\n",
    "        \"patterns\": [\"Can you tell me where the parcel with tracking ID AB123456789 is?\",\"What's the current status of my shipment GT325673452?\",\"Where is my package SP457209142?\",\"Any update on GT325673452?\",\"Track SP457209142 for me, please.\",\n",
    "                     \"I need to know where my parcel AB123456789 is right now.\",\"GT325673452, can you track this for me?\",\"Can you give me the current location and status of parcel AB123456789?\",\"I'm waiting for SP457209142. Any idea where it might be?\"],\n",
    "        \"responses\": []\n",
    "    }\n",
    "]\n",
    "}\n",
    "\n",
    "\n",
    "model = keras.models.load_model('chat_model.keras')\n",
    "\n",
    "with open('tokenizer.pickle', 'rb') as handle:\n",
    "        tokenizer = pickle.load(handle)\n",
    "\n",
    "with open('label_encoder.pickle', 'rb') as enc:\n",
    "        lbl_encoder = pickle.load(enc)\n",
    "        \n",
    "max_len = 20\n",
    "\n",
    "def chat(message):\n",
    "    result = model.predict(keras.preprocessing.sequence.pad_sequences(tokenizer.texts_to_sequences([message]),\n",
    "                                                 truncating='post', maxlen=max_len))\n",
    "\n",
    "    tag = lbl_encoder.inverse_transform([np.argmax(result)])[0]\n",
    "\n",
    "    for i in data['intents']:\n",
    "        if i['tag'] == tag:\n",
    "            if tag == 'location':\n",
    "                print(\"Please provide your tracking ID for more information.\")\n",
    "            else:\n",
    "                print(\"chatBot:\", np.random.choice(i['responses']))\n",
    "            break\n",
    "\n",
    "chat(\"Hey\")\n"
   ]
  },
  {
   "cell_type": "code",
   "execution_count": null,
   "id": "b1610e92",
   "metadata": {},
   "outputs": [],
   "source": []
  },
  {
   "cell_type": "code",
   "execution_count": null,
   "id": "6e58aabb",
   "metadata": {},
   "outputs": [],
   "source": []
  }
 ],
 "metadata": {
  "kernelspec": {
   "display_name": "Python 3 (ipykernel)",
   "language": "python",
   "name": "python3"
  },
  "language_info": {
   "codemirror_mode": {
    "name": "ipython",
    "version": 3
   },
   "file_extension": ".py",
   "mimetype": "text/x-python",
   "name": "python",
   "nbconvert_exporter": "python",
   "pygments_lexer": "ipython3",
   "version": "3.10.9"
  }
 },
 "nbformat": 4,
 "nbformat_minor": 5
}
